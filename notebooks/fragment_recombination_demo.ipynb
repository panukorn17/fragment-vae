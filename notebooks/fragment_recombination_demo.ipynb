{
 "cells": [
  {
   "cell_type": "code",
   "execution_count": 1,
   "metadata": {},
   "outputs": [],
   "source": [
    "from rdkit import Chem\n",
    "from rdkit.Chem import rdDepictor\n",
    "rdDepictor.SetPreferCoordGen(True)\n",
    "\n",
    "import sys\n",
    "sys.path.append('../molecules')\n",
    "from rdkit.Chem import MolToSmiles, MolFromSmiles"
   ]
  },
  {
   "cell_type": "code",
   "execution_count": 11,
   "metadata": {},
   "outputs": [],
   "source": [
    "def replace_last(s, old, new):\n",
    "    s_reversed = s[::-1]\n",
    "    old_reversed = old[::-1]\n",
    "    new_reversed = new[::-1]\n",
    "\n",
    "    # Replace the first occurrence in the reversed string\n",
    "    s_reversed = s_reversed.replace(old_reversed, new_reversed, 1)\n",
    "\n",
    "    # Reverse the string back to original order\n",
    "    return s_reversed[::-1]"
   ]
  },
  {
   "cell_type": "code",
   "execution_count": 12,
   "metadata": {},
   "outputs": [],
   "source": [
    "def reconstruct(fragments):\n",
    "    print(\"Reconstructing...\")\n",
    "    frag_recomb_list = []\n",
    "    frag_2_re = MolToSmiles(MolFromSmiles(Chem.CanonSmiles(fragments[-1])), rootedAtAtom=1)\n",
    "    for i in range(len(fragments)-1):\n",
    "        frag_1_re = fragments[-1*i-2]\n",
    "        recomb = replace_last(frag_2_re, \"*\", frag_1_re.replace(\"*\", \"\",1))\n",
    "        recomb_canon = MolToSmiles(MolFromSmiles(Chem.CanonSmiles(recomb)),rootedAtAtom = 1)\n",
    "        print(\"Base Molecule: \",frag_2_re)\n",
    "        print(\"Fragment: \",frag_1_re)\n",
    "        print(\"Recombined: \",recomb_canon)\n",
    "        frag_recomb_list.append(recomb_canon)\n",
    "        frag_2_re = recomb_canon\n",
    "    print(\"Reconstructed Fragments: \",frag_recomb_list)\n",
    "    print(\"Final Recombined Molecule\", Chem.CanonSmiles(recomb))\n",
    "    print(\"Original Molecule: \",fragment_orig)\n",
    "    print(\"Check that the final and original molecules are the same: \", Chem.CanonSmiles(recomb) == fragment_orig) \n",
    "    molecules = [Chem.MolFromSmiles(smiles) for smiles in frag_recomb_list]\n",
    "    img = Chem.Draw.MolsToGridImage(molecules, molsPerRow=4, subImgSize=(600, 600))\n",
    "    return img"
   ]
  },
  {
   "cell_type": "code",
   "execution_count": 10,
   "metadata": {},
   "outputs": [],
   "source": [
    "frag_str = '*N1CC2CC=CCC2C1 *C(*)=O *N* *CC* *N* *C(*)=O *c1cccnc1'\n",
    "fragments = frag_str.split()\n",
    "fragment_orig = 'O=C(NCCNC(=O)N1CC2CC=CCC2C1)c1cccnc1'\n",
    "#fragments = ['*CCC', '*CCc1cccc(-c2ccccc2)c1', '*N(*)*', '*C(*)=O', '*NC1C(N)C=C(C(=O)O)OC1*', 'C(*)(C)=O']\n",
    "# From thesis\n",
    "#frag_str = '*CCC *N(*)C(=O)C1OC(C(=O)O)=CC(N)C1NC(C)=O *CC* *c1cccc(*)c1 *c1ccccc1'\n",
    "#fragments = frag_str.split()"
   ]
  },
  {
   "cell_type": "markdown",
   "metadata": {},
   "source": [
    "img = reconstruct(fragments)\n",
    "img"
   ]
  },
  {
   "cell_type": "code",
   "execution_count": 14,
   "metadata": {},
   "outputs": [
    {
     "data": {
      "image/png": "[encoded data removed]",
      "text/plain": [
       "<rdkit.Chem.rdchem.Mol at 0x209d17144c0>"
      ]
     },
     "execution_count": 14,
     "metadata": {},
     "output_type": "execute_result"
    }
   ],
   "source": [
    "MolFromSmiles(\"CCNCCCCNCCCCNCCCCNCCCCNCC=C(CS)CNCCCCNCCCCNCCCCNCCCCNCC\")"
   ]
  },
  {
   "cell_type": "code",
   "execution_count": null,
   "metadata": {},
   "outputs": [],
   "source": []
  }
 ],
 "metadata": {
  "kernelspec": {
   "display_name": "fragment-vae",
   "language": "python",
   "name": "python3"
  },
  "language_info": {
   "codemirror_mode": {
    "name": "ipython",
    "version": 3
   },
   "file_extension": ".py",
   "mimetype": "text/x-python",
   "name": "python",
   "nbconvert_exporter": "python",
   "pygments_lexer": "ipython3",
   "version": "3.9.18"
  }
 },
 "nbformat": 4,
 "nbformat_minor": 2
}
