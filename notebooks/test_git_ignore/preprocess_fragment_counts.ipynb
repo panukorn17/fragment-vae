{
 "cells": [
  {
   "cell_type": "code",
   "execution_count": 9,
   "metadata": {},
   "outputs": [],
   "source": [
    "import numpy as np\n",
    "import pandas as pd\n",
    "from tqdm import tqdm"
   ]
  },
  {
   "cell_type": "code",
   "execution_count": 10,
   "metadata": {},
   "outputs": [
    {
     "data": {
      "text/html": [
       "<div>\n",
       "<style scoped>\n",
       "    .dataframe tbody tr th:only-of-type {\n",
       "        vertical-align: middle;\n",
       "    }\n",
       "\n",
       "    .dataframe tbody tr th {\n",
       "        vertical-align: top;\n",
       "    }\n",
       "\n",
       "    .dataframe thead th {\n",
       "        text-align: right;\n",
       "    }\n",
       "</style>\n",
       "<table border=\"1\" class=\"dataframe\">\n",
       "  <thead>\n",
       "    <tr style=\"text-align: right;\">\n",
       "      <th></th>\n",
       "      <th>smiles</th>\n",
       "      <th>fragments</th>\n",
       "      <th>n_fragments</th>\n",
       "      <th>C</th>\n",
       "      <th>F</th>\n",
       "      <th>N</th>\n",
       "      <th>O</th>\n",
       "      <th>Other</th>\n",
       "      <th>SINGLE</th>\n",
       "      <th>DOUBLE</th>\n",
       "      <th>TRIPLE</th>\n",
       "      <th>Tri</th>\n",
       "      <th>Quad</th>\n",
       "      <th>Pent</th>\n",
       "      <th>Hex</th>\n",
       "      <th>logP</th>\n",
       "      <th>mr</th>\n",
       "      <th>qed</th>\n",
       "      <th>SAS</th>\n",
       "    </tr>\n",
       "  </thead>\n",
       "  <tbody>\n",
       "    <tr>\n",
       "      <th>0</th>\n",
       "      <td>CC(C)(C)c1ccc2occ(CC(=O)Nc3ccccc3F)c2c1</td>\n",
       "      <td>*C(C)(C)C *C(=O)Cc1coc2ccc(*)cc12 *N* *c1ccccc1F</td>\n",
       "      <td>4</td>\n",
       "      <td>20</td>\n",
       "      <td>1</td>\n",
       "      <td>1</td>\n",
       "      <td>2</td>\n",
       "      <td>0</td>\n",
       "      <td>18</td>\n",
       "      <td>8</td>\n",
       "      <td>0</td>\n",
       "      <td>0</td>\n",
       "      <td>0</td>\n",
       "      <td>1</td>\n",
       "      <td>2</td>\n",
       "      <td>5.05060</td>\n",
       "      <td>93.6477</td>\n",
       "      <td>0.731901</td>\n",
       "      <td>2.084095</td>\n",
       "    </tr>\n",
       "    <tr>\n",
       "      <th>1</th>\n",
       "      <td>CC1CC(C)CC(Nc2cncc(-c3nncn3C)c2)C1</td>\n",
       "      <td>*C1CC(C)CC(C)C1 *N* *c1cncc(-c2nncn2C)c1</td>\n",
       "      <td>3</td>\n",
       "      <td>16</td>\n",
       "      <td>0</td>\n",
       "      <td>5</td>\n",
       "      <td>0</td>\n",
       "      <td>0</td>\n",
       "      <td>18</td>\n",
       "      <td>5</td>\n",
       "      <td>0</td>\n",
       "      <td>0</td>\n",
       "      <td>0</td>\n",
       "      <td>1</td>\n",
       "      <td>2</td>\n",
       "      <td>3.11370</td>\n",
       "      <td>83.8237</td>\n",
       "      <td>0.941112</td>\n",
       "      <td>3.432004</td>\n",
       "    </tr>\n",
       "    <tr>\n",
       "      <th>2</th>\n",
       "      <td>N#Cc1ccc(-c2ccc(OC(C(=O)N3CCCC3)c3ccccc3)cc2)cc1</td>\n",
       "      <td>*N1CCCC1 *c1ccccc1 *OC(*)C(*)=O *c1ccc(-c2ccc(...</td>\n",
       "      <td>4</td>\n",
       "      <td>25</td>\n",
       "      <td>0</td>\n",
       "      <td>2</td>\n",
       "      <td>2</td>\n",
       "      <td>0</td>\n",
       "      <td>21</td>\n",
       "      <td>10</td>\n",
       "      <td>1</td>\n",
       "      <td>0</td>\n",
       "      <td>0</td>\n",
       "      <td>1</td>\n",
       "      <td>3</td>\n",
       "      <td>4.96778</td>\n",
       "      <td>112.2180</td>\n",
       "      <td>0.626105</td>\n",
       "      <td>2.470633</td>\n",
       "    </tr>\n",
       "    <tr>\n",
       "      <th>3</th>\n",
       "      <td>CCOC(=O)C1CCCN(C(=O)c2nc(-c3ccc(C)cc3)n3c2CCCC...</td>\n",
       "      <td>*CC *O* *C(*)=O *C1CCCN(C(=O)c2nc(-c3ccc(C)cc3...</td>\n",
       "      <td>4</td>\n",
       "      <td>24</td>\n",
       "      <td>0</td>\n",
       "      <td>3</td>\n",
       "      <td>3</td>\n",
       "      <td>0</td>\n",
       "      <td>26</td>\n",
       "      <td>7</td>\n",
       "      <td>0</td>\n",
       "      <td>0</td>\n",
       "      <td>0</td>\n",
       "      <td>1</td>\n",
       "      <td>2</td>\n",
       "      <td>4.00022</td>\n",
       "      <td>115.2155</td>\n",
       "      <td>0.716225</td>\n",
       "      <td>2.822753</td>\n",
       "    </tr>\n",
       "    <tr>\n",
       "      <th>4</th>\n",
       "      <td>N#CC1=C(SCC(=O)Nc2cccc(Cl)c2)N=C([O-])C(C#N)C1...</td>\n",
       "      <td>*SC1=C(C#N)C2(CCCCC2)C(C#N)C([O-])=N1 *c1cccc(...</td>\n",
       "      <td>3</td>\n",
       "      <td>20</td>\n",
       "      <td>0</td>\n",
       "      <td>4</td>\n",
       "      <td>2</td>\n",
       "      <td>2</td>\n",
       "      <td>22</td>\n",
       "      <td>6</td>\n",
       "      <td>2</td>\n",
       "      <td>0</td>\n",
       "      <td>0</td>\n",
       "      <td>0</td>\n",
       "      <td>3</td>\n",
       "      <td>3.60956</td>\n",
       "      <td>107.2347</td>\n",
       "      <td>0.809572</td>\n",
       "      <td>4.035182</td>\n",
       "    </tr>\n",
       "  </tbody>\n",
       "</table>\n",
       "</div>"
      ],
      "text/plain": [
       "                                              smiles  \\\n",
       "0            CC(C)(C)c1ccc2occ(CC(=O)Nc3ccccc3F)c2c1   \n",
       "1                 CC1CC(C)CC(Nc2cncc(-c3nncn3C)c2)C1   \n",
       "2   N#Cc1ccc(-c2ccc(OC(C(=O)N3CCCC3)c3ccccc3)cc2)cc1   \n",
       "3  CCOC(=O)C1CCCN(C(=O)c2nc(-c3ccc(C)cc3)n3c2CCCC...   \n",
       "4  N#CC1=C(SCC(=O)Nc2cccc(Cl)c2)N=C([O-])C(C#N)C1...   \n",
       "\n",
       "                                           fragments  n_fragments   C  F  N  \\\n",
       "0   *C(C)(C)C *C(=O)Cc1coc2ccc(*)cc12 *N* *c1ccccc1F            4  20  1  1   \n",
       "1           *C1CC(C)CC(C)C1 *N* *c1cncc(-c2nncn2C)c1            3  16  0  5   \n",
       "2  *N1CCCC1 *c1ccccc1 *OC(*)C(*)=O *c1ccc(-c2ccc(...            4  25  0  2   \n",
       "3  *CC *O* *C(*)=O *C1CCCN(C(=O)c2nc(-c3ccc(C)cc3...            4  24  0  3   \n",
       "4  *SC1=C(C#N)C2(CCCCC2)C(C#N)C([O-])=N1 *c1cccc(...            3  20  0  4   \n",
       "\n",
       "   O  Other  SINGLE  DOUBLE  TRIPLE  Tri  Quad  Pent  Hex     logP        mr  \\\n",
       "0  2      0      18       8       0    0     0     1    2  5.05060   93.6477   \n",
       "1  0      0      18       5       0    0     0     1    2  3.11370   83.8237   \n",
       "2  2      0      21      10       1    0     0     1    3  4.96778  112.2180   \n",
       "3  3      0      26       7       0    0     0     1    2  4.00022  115.2155   \n",
       "4  2      2      22       6       2    0     0     0    3  3.60956  107.2347   \n",
       "\n",
       "        qed       SAS  \n",
       "0  0.731901  2.084095  \n",
       "1  0.941112  3.432004  \n",
       "2  0.626105  2.470633  \n",
       "3  0.716225  2.822753  \n",
       "4  0.809572  4.035182  "
      ]
     },
     "execution_count": 10,
     "metadata": {},
     "output_type": "execute_result"
    }
   ],
   "source": [
    "# read csv file into a pandas dataframe\n",
    "file_path = '../../Data/ZINC/PROCESSED/train_recurse_frag_only.smi'\n",
    "df = pd.read_csv(file_path, sep=',')\n",
    "# drop first column of df (index column)\n",
    "df = df.iloc[:,1:]\n",
    "df.head()"
   ]
  },
  {
   "cell_type": "code",
   "execution_count": 11,
   "metadata": {},
   "outputs": [
    {
     "name": "stderr",
     "output_type": "stream",
     "text": [
      "  0%|          | 0/238556 [00:00<?, ?it/s]"
     ]
    },
    {
     "name": "stderr",
     "output_type": "stream",
     "text": [
      "100%|██████████| 238556/238556 [00:00<00:00, 466319.82it/s]\n"
     ]
    }
   ],
   "source": [
    "# get list of all fragments into one list\n",
    "fragments_list = []\n",
    "for fragments in tqdm(df['fragments']):\n",
    "    fragments_list.append(fragments.split(' '))\n",
    "fragments_list = [item for sublist in fragments_list for item in sublist]"
   ]
  },
  {
   "cell_type": "code",
   "execution_count": 18,
   "metadata": {},
   "outputs": [
    {
     "name": "stdout",
     "output_type": "stream",
     "text": [
      "Number of unique fragments: 86081\n",
      "Number of fragments that appear more than  100  times: 643\n"
     ]
    },
    {
     "name": "stderr",
     "output_type": "stream",
     "text": [
      "238556it [00:01, 157959.54it/s]"
     ]
    },
    {
     "name": "stdout",
     "output_type": "stream",
     "text": [
      "Number of molecules after filtering: 38023\n"
     ]
    },
    {
     "name": "stderr",
     "output_type": "stream",
     "text": [
      "\n"
     ]
    }
   ],
   "source": [
    "# get a count of unique fragments\n",
    "unique_fragments = list(set(fragments_list))\n",
    "print('Number of unique fragments:', len(unique_fragments))\n",
    "\n",
    "# get a count of each fragment\n",
    "unique_fragment_count = pd.value_counts(fragments_list)\n",
    "\n",
    "# get a list of fragments that appear more than 50 times\n",
    "N = 100\n",
    "unique_frags_gt_x = unique_fragment_count[unique_fragment_count>N]\n",
    "print(\"Number of fragments that appear more than \",N,\" times:\", len(unique_frags_gt_x))\n",
    "\n",
    "# filter df for molecules that only contain fragments that appear more than 5 times\n",
    "drop_indices = []\n",
    "for i, fragments in tqdm(enumerate(df['fragments'])):\n",
    "    fragments = fragments.split(' ')\n",
    "    if not(all(x in unique_frags_gt_x for x in fragments)):\n",
    "        drop_indices.append(i)\n",
    "\n",
    "df_filtered = df.drop(drop_indices).reset_index(drop=True)\n",
    "print('Number of molecules after filtering:', len(df_filtered))"
   ]
  },
  {
   "cell_type": "code",
   "execution_count": 19,
   "metadata": {},
   "outputs": [
    {
     "data": {
      "text/html": [
       "<div>\n",
       "<style scoped>\n",
       "    .dataframe tbody tr th:only-of-type {\n",
       "        vertical-align: middle;\n",
       "    }\n",
       "\n",
       "    .dataframe tbody tr th {\n",
       "        vertical-align: top;\n",
       "    }\n",
       "\n",
       "    .dataframe thead th {\n",
       "        text-align: right;\n",
       "    }\n",
       "</style>\n",
       "<table border=\"1\" class=\"dataframe\">\n",
       "  <thead>\n",
       "    <tr style=\"text-align: right;\">\n",
       "      <th></th>\n",
       "      <th>smiles</th>\n",
       "      <th>fragments</th>\n",
       "      <th>n_fragments</th>\n",
       "      <th>C</th>\n",
       "      <th>F</th>\n",
       "      <th>N</th>\n",
       "      <th>O</th>\n",
       "      <th>Other</th>\n",
       "      <th>SINGLE</th>\n",
       "      <th>DOUBLE</th>\n",
       "      <th>TRIPLE</th>\n",
       "      <th>Tri</th>\n",
       "      <th>Quad</th>\n",
       "      <th>Pent</th>\n",
       "      <th>Hex</th>\n",
       "      <th>logP</th>\n",
       "      <th>mr</th>\n",
       "      <th>qed</th>\n",
       "      <th>SAS</th>\n",
       "    </tr>\n",
       "  </thead>\n",
       "  <tbody>\n",
       "    <tr>\n",
       "      <th>0</th>\n",
       "      <td>CCCCC(=O)NC(=S)Nc1ccccc1C(=O)N1CCOCC1</td>\n",
       "      <td>*C(=O)CCCC *NC(=S)N* *c1ccccc1* *C(*)=O *N1CCOCC1</td>\n",
       "      <td>5</td>\n",
       "      <td>17</td>\n",
       "      <td>0</td>\n",
       "      <td>3</td>\n",
       "      <td>3</td>\n",
       "      <td>1</td>\n",
       "      <td>19</td>\n",
       "      <td>6</td>\n",
       "      <td>0</td>\n",
       "      <td>0</td>\n",
       "      <td>0</td>\n",
       "      <td>0</td>\n",
       "      <td>2</td>\n",
       "      <td>2.16220</td>\n",
       "      <td>97.0529</td>\n",
       "      <td>0.797400</td>\n",
       "      <td>2.037915</td>\n",
       "    </tr>\n",
       "    <tr>\n",
       "      <th>1</th>\n",
       "      <td>COc1cc(C)ccc1OCC(=O)Nc1nnc(C)s1</td>\n",
       "      <td>*OC *c1ccc(C)cc1* *O* *c1nnc(C)s1 *CC(=O)N*</td>\n",
       "      <td>5</td>\n",
       "      <td>13</td>\n",
       "      <td>0</td>\n",
       "      <td>3</td>\n",
       "      <td>3</td>\n",
       "      <td>1</td>\n",
       "      <td>15</td>\n",
       "      <td>6</td>\n",
       "      <td>0</td>\n",
       "      <td>0</td>\n",
       "      <td>0</td>\n",
       "      <td>1</td>\n",
       "      <td>1</td>\n",
       "      <td>2.18104</td>\n",
       "      <td>76.5017</td>\n",
       "      <td>0.914357</td>\n",
       "      <td>1.912049</td>\n",
       "    </tr>\n",
       "    <tr>\n",
       "      <th>2</th>\n",
       "      <td>COc1ccc(C(C)NC(=O)Cc2cccc3ccccc23)cc1</td>\n",
       "      <td>*OC *c1ccc(*)cc1 *C(*)C *N* *CC(*)=O *c1cccc2c...</td>\n",
       "      <td>6</td>\n",
       "      <td>21</td>\n",
       "      <td>0</td>\n",
       "      <td>1</td>\n",
       "      <td>2</td>\n",
       "      <td>0</td>\n",
       "      <td>17</td>\n",
       "      <td>9</td>\n",
       "      <td>0</td>\n",
       "      <td>0</td>\n",
       "      <td>0</td>\n",
       "      <td>0</td>\n",
       "      <td>3</td>\n",
       "      <td>4.26830</td>\n",
       "      <td>97.2037</td>\n",
       "      <td>0.762534</td>\n",
       "      <td>2.121841</td>\n",
       "    </tr>\n",
       "    <tr>\n",
       "      <th>3</th>\n",
       "      <td>COc1ccccc1NC(=O)CSc1ccc(-c2ccccc2OC)nn1</td>\n",
       "      <td>*OC *c1ccccc1* *N* *CC(*)=O *S* *OC *c1ccc(*)n...</td>\n",
       "      <td>8</td>\n",
       "      <td>20</td>\n",
       "      <td>0</td>\n",
       "      <td>3</td>\n",
       "      <td>3</td>\n",
       "      <td>1</td>\n",
       "      <td>19</td>\n",
       "      <td>10</td>\n",
       "      <td>0</td>\n",
       "      <td>0</td>\n",
       "      <td>0</td>\n",
       "      <td>0</td>\n",
       "      <td>3</td>\n",
       "      <td>3.89160</td>\n",
       "      <td>106.3677</td>\n",
       "      <td>0.626082</td>\n",
       "      <td>2.006980</td>\n",
       "    </tr>\n",
       "    <tr>\n",
       "      <th>4</th>\n",
       "      <td>CCC(NC(=O)C(C)n1cccn1)c1ccc(C)c(F)c1</td>\n",
       "      <td>*n1cccn1 *C(=O)C(*)C *N* *C(*)CC *c1ccc(C)c(F)c1</td>\n",
       "      <td>5</td>\n",
       "      <td>16</td>\n",
       "      <td>1</td>\n",
       "      <td>3</td>\n",
       "      <td>1</td>\n",
       "      <td>0</td>\n",
       "      <td>16</td>\n",
       "      <td>6</td>\n",
       "      <td>0</td>\n",
       "      <td>0</td>\n",
       "      <td>0</td>\n",
       "      <td>1</td>\n",
       "      <td>1</td>\n",
       "      <td>3.15912</td>\n",
       "      <td>79.2497</td>\n",
       "      <td>0.918746</td>\n",
       "      <td>3.006379</td>\n",
       "    </tr>\n",
       "  </tbody>\n",
       "</table>\n",
       "</div>"
      ],
      "text/plain": [
       "                                    smiles  \\\n",
       "0    CCCCC(=O)NC(=S)Nc1ccccc1C(=O)N1CCOCC1   \n",
       "1          COc1cc(C)ccc1OCC(=O)Nc1nnc(C)s1   \n",
       "2    COc1ccc(C(C)NC(=O)Cc2cccc3ccccc23)cc1   \n",
       "3  COc1ccccc1NC(=O)CSc1ccc(-c2ccccc2OC)nn1   \n",
       "4     CCC(NC(=O)C(C)n1cccn1)c1ccc(C)c(F)c1   \n",
       "\n",
       "                                           fragments  n_fragments   C  F  N  \\\n",
       "0  *C(=O)CCCC *NC(=S)N* *c1ccccc1* *C(*)=O *N1CCOCC1            5  17  0  3   \n",
       "1        *OC *c1ccc(C)cc1* *O* *c1nnc(C)s1 *CC(=O)N*            5  13  0  3   \n",
       "2  *OC *c1ccc(*)cc1 *C(*)C *N* *CC(*)=O *c1cccc2c...            6  21  0  1   \n",
       "3  *OC *c1ccccc1* *N* *CC(*)=O *S* *OC *c1ccc(*)n...            8  20  0  3   \n",
       "4   *n1cccn1 *C(=O)C(*)C *N* *C(*)CC *c1ccc(C)c(F)c1            5  16  1  3   \n",
       "\n",
       "   O  Other  SINGLE  DOUBLE  TRIPLE  Tri  Quad  Pent  Hex     logP        mr  \\\n",
       "0  3      1      19       6       0    0     0     0    2  2.16220   97.0529   \n",
       "1  3      1      15       6       0    0     0     1    1  2.18104   76.5017   \n",
       "2  2      0      17       9       0    0     0     0    3  4.26830   97.2037   \n",
       "3  3      1      19      10       0    0     0     0    3  3.89160  106.3677   \n",
       "4  1      0      16       6       0    0     0     1    1  3.15912   79.2497   \n",
       "\n",
       "        qed       SAS  \n",
       "0  0.797400  2.037915  \n",
       "1  0.914357  1.912049  \n",
       "2  0.762534  2.121841  \n",
       "3  0.626082  2.006980  \n",
       "4  0.918746  3.006379  "
      ]
     },
     "execution_count": 19,
     "metadata": {},
     "output_type": "execute_result"
    }
   ],
   "source": [
    "df_filtered.head()"
   ]
  },
  {
   "cell_type": "code",
   "execution_count": 20,
   "metadata": {},
   "outputs": [
    {
     "name": "stdout",
     "output_type": "stream",
     "text": [
      "*CCCC 1590\n",
      "*N* 112790\n",
      "*CS(*)(=O)=O 162\n",
      "*c1ccc([N+](=O)[O-])cc1 741\n"
     ]
    }
   ],
   "source": [
    "for fragment in df_filtered.iloc[100]['fragments'].split(' '):\n",
    "    print(fragment, unique_fragment_count[fragment])"
   ]
  },
  {
   "cell_type": "code",
   "execution_count": 21,
   "metadata": {},
   "outputs": [],
   "source": [
    "# save filtered dataframe to csv\n",
    "df_filtered.to_csv('../../Data/ZINC/PROCESSED/train_frag_gt_100.smi', index=True)"
   ]
  },
  {
   "cell_type": "code",
   "execution_count": 29,
   "metadata": {},
   "outputs": [
    {
     "name": "stderr",
     "output_type": "stream",
     "text": [
      "100%|██████████| 38023/38023 [00:00<00:00, 550770.56it/s]\n"
     ]
    }
   ],
   "source": [
    "fragment_list = []\n",
    "for frag in tqdm(df_filtered.fragments):\n",
    "    fragment_list.extend(frag.split())\n",
    "fragment_counts = pd.value_counts(fragment_list)"
   ]
  },
  {
   "cell_type": "code",
   "execution_count": 23,
   "metadata": {},
   "outputs": [
    {
     "data": {
      "text/plain": [
       "*N*               30725\n",
       "*C(*)=O           21236\n",
       "*O*                8718\n",
       "*C*                6991\n",
       "*OC                6103\n",
       "                  ...  \n",
       "*c1ncoc1*            20\n",
       "*COC                 19\n",
       "*C(=O)C(F)(F)F       19\n",
       "*CC(C)=O             15\n",
       "*C(C)Cl               4\n",
       "Length: 643, dtype: int64"
      ]
     },
     "execution_count": 23,
     "metadata": {},
     "output_type": "execute_result"
    }
   ],
   "source": [
    "fragment_counts"
   ]
  },
  {
   "cell_type": "code",
   "execution_count": 38,
   "metadata": {},
   "outputs": [
    {
     "data": {
      "text/plain": [
       "*N*               0.855388\n",
       "*C(*)=O           0.887099\n",
       "*O*               0.974138\n",
       "*C*               0.998428\n",
       "*OC               1.013986\n",
       "                    ...   \n",
       "*c1ncoc1*         2.903118\n",
       "*COC              2.950400\n",
       "*C(=O)C(F)(F)F    2.950400\n",
       "*CC(C)=O          3.187854\n",
       "*C(C)Cl           5.491737\n",
       "Length: 643, dtype: float64"
      ]
     },
     "execution_count": 38,
     "metadata": {},
     "output_type": "execute_result"
    }
   ],
   "source": [
    "\n",
    "penalty = np.sum(np.log(fragment_counts + 1)) / np.log(fragment_counts + 1)\n",
    "penalty_weights = penalty / np.linalg.norm(penalty) * 50\n",
    "penalty_weights"
   ]
  }
 ],
 "metadata": {
  "kernelspec": {
   "display_name": "fragment-vae",
   "language": "python",
   "name": "python3"
  },
  "language_info": {
   "codemirror_mode": {
    "name": "ipython",
    "version": 3
   },
   "file_extension": ".py",
   "mimetype": "text/x-python",
   "name": "python",
   "nbconvert_exporter": "python",
   "pygments_lexer": "ipython3",
   "version": "3.9.18"
  }
 },
 "nbformat": 4,
 "nbformat_minor": 2
}
