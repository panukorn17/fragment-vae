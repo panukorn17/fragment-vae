{
 "cells": [
  {
   "cell_type": "code",
   "execution_count": 3,
   "metadata": {},
   "outputs": [],
   "source": [
    "import numpy as np\n",
    "from copy import deepcopy\n",
    "\n",
    "from rdkit import Chem\n",
    "from rdkit.Chem import BRICS\n",
    "\n",
    "import sys\n",
    "sys.path.append('../molecules')\n",
    "from conversion import mol_from_smiles, mol_to_smiles"
   ]
  },
  {
   "cell_type": "code",
   "execution_count": 4,
   "metadata": {},
   "outputs": [],
   "source": [
    "\n",
    "def break_on_bond(mol, bond, min_length=3):\n",
    "    if mol.GetNumAtoms() - bond <= min_length:\n",
    "        return [mol]\n",
    "\n",
    "    broken = Chem.FragmentOnBonds(\n",
    "        mol, bondIndices=[bond],\n",
    "        dummyLabels=[(0, 0)])\n",
    "\n",
    "    res = Chem.GetMolFrags(\n",
    "        broken, asMols=True, sanitizeFrags=False)\n",
    "\n",
    "    return res"
   ]
  },
  {
   "cell_type": "code",
   "execution_count": 12,
   "metadata": {},
   "outputs": [],
   "source": [
    "def fragment_iterative(mol, min_length=3):\n",
    "\n",
    "    bond_data = list(BRICS.FindBRICSBonds(mol))\n",
    "\n",
    "    try:\n",
    "        idxs, labs = zip(*bond_data)\n",
    "    except Exception:\n",
    "        return []\n",
    "\n",
    "    bonds = []\n",
    "    for a1, a2 in idxs:\n",
    "        bond = mol.GetBondBetweenAtoms(a1, a2)\n",
    "        bonds.append(bond.GetIdx())\n",
    "\n",
    "    order = np.argsort(bonds).tolist()\n",
    "    bonds = [bonds[i] for i in order]\n",
    "\n",
    "    frags, temp = [], deepcopy(mol)\n",
    "    for bond in bonds:\n",
    "        res = break_on_bond(temp, bond)\n",
    "\n",
    "        if len(res) == 1:\n",
    "            frags.append(temp)\n",
    "            break\n",
    "\n",
    "        head, tail = res\n",
    "\n",
    "        frags.append(head)\n",
    "        temp = deepcopy(tail)\n",
    "\n",
    "    return frags\n"
   ]
  },
  {
   "cell_type": "code",
   "execution_count": 14,
   "metadata": {},
   "outputs": [],
   "source": [
    "def break_into_fragments(mol, smi):\n",
    "    frags = fragment_iterative(mol)\n",
    "\n",
    "    if len(frags) == 0:\n",
    "        return smi, np.nan, 0\n",
    "\n",
    "    if len(frags) == 1:\n",
    "        return smi, smi, 1\n",
    "\n",
    "    return smi, np.nan, 0"
   ]
  },
  {
   "cell_type": "code",
   "execution_count": 18,
   "metadata": {},
   "outputs": [],
   "source": [
    "\n",
    "smiles = '*C1OC(C(=O)O)=CC(N)C1*'\n",
    "mol = mol_from_smiles(smiles)"
   ]
  },
  {
   "cell_type": "code",
   "execution_count": 19,
   "metadata": {},
   "outputs": [
    {
     "data": {
      "image/png": "[encoded data removed]",
      "text/plain": [
       "<rdkit.Chem.rdchem.Mol at 0x1523cfe5d00>"
      ]
     },
     "execution_count": 19,
     "metadata": {},
     "output_type": "execute_result"
    }
   ],
   "source": [
    "mol"
   ]
  },
  {
   "cell_type": "code",
   "execution_count": 17,
   "metadata": {},
   "outputs": [
    {
     "data": {
      "text/plain": [
       "('CCCOCc1cc(c2ncccc2)ccc1', nan, 0)"
      ]
     },
     "execution_count": 17,
     "metadata": {},
     "output_type": "execute_result"
    }
   ],
   "source": [
    "break_into_fragments(mol, smiles)"
   ]
  },
  {
   "cell_type": "code",
   "execution_count": null,
   "metadata": {},
   "outputs": [],
   "source": []
  }
 ],
 "metadata": {
  "kernelspec": {
   "display_name": "fragment-vae",
   "language": "python",
   "name": "python3"
  },
  "language_info": {
   "codemirror_mode": {
    "name": "ipython",
    "version": 3
   },
   "file_extension": ".py",
   "mimetype": "text/x-python",
   "name": "python",
   "nbconvert_exporter": "python",
   "pygments_lexer": "ipython3",
   "version": "3.9.18"
  }
 },
 "nbformat": 4,
 "nbformat_minor": 2
}
